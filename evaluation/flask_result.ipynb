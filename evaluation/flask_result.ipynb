{
 "cells": [
  {
   "cell_type": "code",
   "execution_count": 22,
   "metadata": {},
   "outputs": [],
   "source": [
    "import json\n",
    "import re\n",
    "\n",
    "result_path = #Entering your result path\n",
    "results = [json.loads(line)[\"response\"][\"body\"][\"choices\"][0][\"message\"][\"content\"] for line in open(result_path, \"r\").readlines()]"
   ]
  },
  {
   "cell_type": "code",
   "execution_count": 23,
   "metadata": {},
   "outputs": [],
   "source": [
    "tmp_result = []\n",
    "error = []\n",
    "\n",
    "for sample in results:\n",
    "    match = re.search(r'```json\\s*(\\[\\s*{.*?}\\s*]\\s*)```', sample, re.DOTALL)\n",
    "    if match:\n",
    "        json_str = match.group(1)\n",
    "        json_str = json_str.replace('N/A', '0')\n",
    "        try:\n",
    "            parsed = json.loads(json_str)\n",
    "            tmp_result.append(parsed)\n",
    "        except json.JSONDecodeError as e:\n",
    "            print(f\"JSONDecodeError: {e}\")\n",
    "            error.append(sample)\n",
    "    else:\n",
    "        error.append(sample)\n",
    "        print(\"Couldn't fine json element\")"
   ]
  },
  {
   "cell_type": "code",
   "execution_count": 24,
   "metadata": {},
   "outputs": [],
   "source": [
    "tmp_dict = {0:0, 1:0, 2:0, 3:0, 4:0, 5:0, 6:0, 7:0}\n",
    "for scores in tmp_result:\n",
    "    for idx, score in enumerate(scores):\n",
    "        tmp_score = score['[RESULT]']\n",
    "        if tmp_score == 'N/A':\n",
    "            tmp_score = 0\n",
    "        tmp_dict[idx] += int(tmp_score)"
   ]
  },
  {
   "cell_type": "code",
   "execution_count": 17,
   "metadata": {},
   "outputs": [
    {
     "name": "stdout",
     "output_type": "stream",
     "text": [
      "personal :  3.86\n",
      "values :  3.62\n",
      "diversity :  2.75\n",
      "creativity :  3.03\n",
      "fluency :  4.63\n",
      "factuality :  4.15\n",
      "helpfulness :  4.52\n",
      "safety :  4.72\n"
     ]
    }
   ],
   "source": [
    "# sonnet with spectrum dpo\n",
    "preferences = ['personal', 'values', 'diversity', 'creativity', 'fluency', 'factuality', 'helpfulness', 'safety']\n",
    "for idx, preference in enumerate(preferences):\n",
    "    print(preference, \": \", round(tmp_dict[idx]/len(tmp_result), 2))"
   ]
  },
  {
   "cell_type": "code",
   "execution_count": 13,
   "metadata": {},
   "outputs": [
    {
     "name": "stdout",
     "output_type": "stream",
     "text": [
      "personal :  3.81\n",
      "values :  3.58\n",
      "diversity :  2.7\n",
      "creativity :  2.96\n",
      "fluency :  4.64\n",
      "factuality :  4.05\n",
      "helpfulness :  4.47\n",
      "safety :  4.69\n"
     ]
    }
   ],
   "source": [
    "# sonnet with spectrum sft\n",
    "preferences = ['personal', 'values', 'diversity', 'creativity', 'fluency', 'factuality', 'helpfulness', 'safety']\n",
    "for idx, preference in enumerate(preferences):\n",
    "    print(preference, \": \", round(tmp_dict[idx]/len(tmp_result), 2))"
   ]
  },
  {
   "cell_type": "code",
   "execution_count": 4,
   "metadata": {},
   "outputs": [
    {
     "name": "stdout",
     "output_type": "stream",
     "text": [
      "personal :  3.54\n",
      "values :  3.3\n",
      "diversity :  2.53\n",
      "creativity :  2.94\n",
      "fluency :  4.58\n",
      "factuality :  3.89\n",
      "helpfulness :  4.25\n",
      "safety :  4.65\n"
     ]
    }
   ],
   "source": [
    "# gpt4o with spectrum dpo\n",
    "preferences = ['personal', 'values', 'diversity', 'creativity', 'fluency', 'factuality', 'helpfulness', 'safety']\n",
    "for idx, preference in enumerate(preferences):\n",
    "    print(preference, \": \", round(tmp_dict[idx]/len(tmp_result), 2))"
   ]
  },
  {
   "cell_type": "code",
   "execution_count": 21,
   "metadata": {},
   "outputs": [
    {
     "name": "stdout",
     "output_type": "stream",
     "text": [
      "personal :  3.51\n",
      "values :  3.24\n",
      "diversity :  2.46\n",
      "creativity :  2.84\n",
      "fluency :  4.55\n",
      "factuality :  3.8\n",
      "helpfulness :  4.17\n",
      "safety :  4.62\n"
     ]
    }
   ],
   "source": [
    "# gpt4o with spectrum sft\n",
    "preferences = ['personal', 'values', 'diversity', 'creativity', 'fluency', 'factuality', 'helpfulness', 'safety']\n",
    "for idx, preference in enumerate(preferences):\n",
    "    print(preference, \": \", round(tmp_dict[idx]/len(tmp_result), 2))"
   ]
  },
  {
   "cell_type": "code",
   "execution_count": 9,
   "metadata": {},
   "outputs": [
    {
     "name": "stdout",
     "output_type": "stream",
     "text": [
      "personal :  3.64\n",
      "values :  3.33\n",
      "diversity :  2.7\n",
      "creativity :  2.85\n",
      "fluency :  4.56\n",
      "factuality :  4.02\n",
      "helpfulness :  4.38\n",
      "safety :  4.64\n"
     ]
    }
   ],
   "source": [
    "# sonnet with base dpo repreat\n",
    "preferences = ['personal', 'values', 'diversity', 'creativity', 'fluency', 'factuality', 'helpfulness', 'safety']\n",
    "for idx, preference in enumerate(preferences):\n",
    "    print(preference, \": \", round(tmp_dict[idx]/len(tmp_result), 2))"
   ]
  },
  {
   "cell_type": "code",
   "execution_count": 34,
   "metadata": {},
   "outputs": [
    {
     "name": "stdout",
     "output_type": "stream",
     "text": [
      "personal :  3.67\n",
      "values :  3.35\n",
      "diversity :  2.66\n",
      "creativity :  2.82\n",
      "fluency :  4.57\n",
      "factuality :  4.0\n",
      "helpfulness :  4.41\n",
      "safety :  4.66\n"
     ]
    }
   ],
   "source": [
    "# sonnet with base sft repreat\n",
    "preferences = ['personal', 'values', 'diversity', 'creativity', 'fluency', 'factuality', 'helpfulness', 'safety']\n",
    "for idx, preference in enumerate(preferences):\n",
    "    print(preference, \": \", round(tmp_dict[idx]/len(tmp_result), 2))"
   ]
  },
  {
   "cell_type": "code",
   "execution_count": 25,
   "metadata": {},
   "outputs": [
    {
     "name": "stdout",
     "output_type": "stream",
     "text": [
      "personal :  3.47\n",
      "values :  3.16\n",
      "diversity :  2.7\n",
      "creativity :  2.9\n",
      "fluency :  4.48\n",
      "factuality :  3.87\n",
      "helpfulness :  4.17\n",
      "safety :  4.6\n"
     ]
    }
   ],
   "source": [
    "# chatgpt with base dpo repreat\n",
    "preferences = ['personal', 'values', 'diversity', 'creativity', 'fluency', 'factuality', 'helpfulness', 'safety']\n",
    "for idx, preference in enumerate(preferences):\n",
    "    print(preference, \": \", round(tmp_dict[idx]/len(tmp_result), 2))"
   ]
  },
  {
   "cell_type": "code",
   "execution_count": 38,
   "metadata": {},
   "outputs": [
    {
     "name": "stdout",
     "output_type": "stream",
     "text": [
      "personal :  3.41\n",
      "values :  3.12\n",
      "diversity :  2.6\n",
      "creativity :  2.82\n",
      "fluency :  4.41\n",
      "factuality :  3.78\n",
      "helpfulness :  4.07\n",
      "safety :  4.53\n"
     ]
    }
   ],
   "source": [
    "# chatgpt with base sft repreat\n",
    "preferences = ['personal', 'values', 'diversity', 'creativity', 'fluency', 'factuality', 'helpfulness', 'safety']\n",
    "for idx, preference in enumerate(preferences):\n",
    "    print(preference, \": \", round(tmp_dict[idx]/len(tmp_result), 2))"
   ]
  },
  {
   "cell_type": "code",
   "execution_count": 26,
   "metadata": {},
   "outputs": [
    {
     "name": "stdout",
     "output_type": "stream",
     "text": [
      "personal :  3.32\n",
      "values :  3.03\n",
      "diversity :  2.47\n",
      "creativity :  2.74\n",
      "fluency :  4.45\n",
      "factuality :  3.71\n",
      "helpfulness :  4.04\n",
      "safety :  4.52\n"
     ]
    }
   ],
   "source": [
    "# gpt-4o with base repreat\n",
    "preferences = ['personal', 'values', 'diversity', 'creativity', 'fluency', 'factuality', 'helpfulness', 'safety']\n",
    "for idx, preference in enumerate(preferences):\n",
    "    print(preference, \": \", round(tmp_dict[idx]/len(tmp_result), 2))"
   ]
  },
  {
   "cell_type": "code",
   "execution_count": 30,
   "metadata": {},
   "outputs": [
    {
     "name": "stdout",
     "output_type": "stream",
     "text": [
      "personal :  3.6\n",
      "values :  3.29\n",
      "diversity :  2.59\n",
      "creativity :  2.78\n",
      "fluency :  4.58\n",
      "factuality :  4.0\n",
      "helpfulness :  4.35\n",
      "safety :  4.64\n"
     ]
    }
   ],
   "source": [
    "# sonnet with base repreat\n",
    "preferences = ['personal', 'values', 'diversity', 'creativity', 'fluency', 'factuality', 'helpfulness', 'safety']\n",
    "for idx, preference in enumerate(preferences):\n",
    "    print(preference, \": \", round(tmp_dict[idx]/len(tmp_result), 2))"
   ]
  },
  {
   "cell_type": "code",
   "execution_count": 22,
   "metadata": {},
   "outputs": [
    {
     "name": "stdout",
     "output_type": "stream",
     "text": [
      "personal :  3.27\n",
      "values :  3.0\n",
      "diversity :  2.13\n",
      "creativity :  2.38\n",
      "fluency :  4.47\n",
      "factuality :  3.65\n",
      "helpfulness :  4.01\n",
      "safety :  4.5\n"
     ]
    }
   ],
   "source": [
    "# gpt-4o\n",
    "preferences = ['personal', 'values', 'diversity', 'creativity', 'fluency', 'factuality', 'helpfulness', 'safety']\n",
    "for idx, preference in enumerate(preferences):\n",
    "    print(preference, \": \", round(tmp_dict[idx]/len(tmp_result), 2))"
   ]
  },
  {
   "cell_type": "code",
   "execution_count": 9,
   "metadata": {},
   "outputs": [
    {
     "name": "stdout",
     "output_type": "stream",
     "text": [
      "personal :  3.79\n",
      "values :  3.61\n",
      "diversity :  2.48\n",
      "creativity :  2.72\n",
      "fluency :  4.61\n",
      "factuality :  4.01\n",
      "helpfulness :  4.43\n",
      "safety :  4.69\n"
     ]
    }
   ],
   "source": [
    "# sonnet\n",
    "preferences = ['personal', 'values', 'diversity', 'creativity', 'fluency', 'factuality', 'helpfulness', 'safety']\n",
    "for idx, preference in enumerate(preferences):\n",
    "    print(preference, \": \", round(tmp_dict[idx]/len(tmp_result), 2))"
   ]
  },
  {
   "cell_type": "code",
   "execution_count": 5,
   "metadata": {},
   "outputs": [
    {
     "name": "stdout",
     "output_type": "stream",
     "text": [
      "personal :  2.71\n",
      "values :  2.51\n",
      "diversity :  1.86\n",
      "creativity :  2.03\n",
      "fluency :  4.14\n",
      "factuality :  3.24\n",
      "helpfulness :  3.52\n",
      "safety :  4.31\n"
     ]
    }
   ],
   "source": [
    "# gt\n",
    "preferences = ['personal', 'values', 'diversity', 'creativity', 'fluency', 'factuality', 'helpfulness', 'safety']\n",
    "for idx, preference in enumerate(preferences):\n",
    "    print(preference, \": \", round(tmp_dict[idx]/len(tmp_result), 2))"
   ]
  },
  {
   "cell_type": "code",
   "execution_count": null,
   "metadata": {},
   "outputs": [],
   "source": []
  }
 ],
 "metadata": {
  "kernelspec": {
   "display_name": "rlphf",
   "language": "python",
   "name": "python3"
  },
  "language_info": {
   "codemirror_mode": {
    "name": "ipython",
    "version": 3
   },
   "file_extension": ".py",
   "mimetype": "text/x-python",
   "name": "python",
   "nbconvert_exporter": "python",
   "pygments_lexer": "ipython3",
   "version": "3.12.9"
  }
 },
 "nbformat": 4,
 "nbformat_minor": 2
}
