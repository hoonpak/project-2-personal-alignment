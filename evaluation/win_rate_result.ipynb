{
 "cells": [
  {
   "cell_type": "code",
   "execution_count": 3,
   "metadata": {},
   "outputs": [],
   "source": [
    "import json\n",
    "import re\n",
    "\n",
    "labels = open(\"../data/labels.txt\", \"r\").read().split()"
   ]
  },
  {
   "cell_type": "code",
   "execution_count": 7,
   "metadata": {},
   "outputs": [
    {
     "name": "stdout",
     "output_type": "stream",
     "text": [
      "############################################################\n",
      "38.59\n",
      "(306/793)\n",
      "38.44\n",
      "(301/783)\n",
      "18.75\n",
      "(3/16)\n",
      "############################################################\n"
     ]
    }
   ],
   "source": [
    "result_path = #Entering your result path\n",
    "result =  [json.loads(line)[\"response\"][\"body\"][\"choices\"][0][\"message\"][\"content\"] \n",
    "            for line in open(result_path, \"r\").readlines()]\n",
    "\n",
    "cor = 0\n",
    "cor_total = 0\n",
    "confi_cor_80 = 0\n",
    "confi_cor_80_total = 0\n",
    "confi_cor_60 = 0\n",
    "confi_cor_60_total = 0\n",
    "\n",
    "for pred, label in zip(result, labels):\n",
    "    if (\" \".join(pred.lower().split(\" \")[:2]).lower() == 'output (a)') and (label == \"A\"):\n",
    "        cor+=1\n",
    "        if [int(num) for num in re.findall(r'\\d+', pred.lower().split(\" \")[-1])][0] > 80:\n",
    "            confi_cor_80 += 1\n",
    "        if [int(num) for num in re.findall(r'\\d+', pred.lower().split(\" \")[-1])][0] > 60:\n",
    "            confi_cor_60 += 1\n",
    "    if (\" \".join(pred.lower().split(\" \")[:2]).lower() == 'output (b)') and (label == \"B\"):\n",
    "        cor+=1\n",
    "        if [int(num) for num in re.findall(r'\\d+', pred.lower().split(\" \")[-1])][0] > 80:\n",
    "            confi_cor_80 += 1\n",
    "        if [int(num) for num in re.findall(r'\\d+', pred.lower().split(\" \")[-1])][0] > 60:\n",
    "            confi_cor_60 += 1\n",
    "    \n",
    "    if (\" \".join(pred.lower().split(\" \")[:2]).lower() == 'output (a)') or (\" \".join(pred.lower().split(\" \")[:2]).lower() == 'output (b)'):\n",
    "        cor_total += 1\n",
    "    \n",
    "    if ([int(num) for num in re.findall(r'\\d+', pred.lower().split(\" \")[-1])][0] > 80) and ((\" \".join(pred.lower().split(\" \")[:2]).lower() == 'output (a)') or (\" \".join(pred.lower().split(\" \")[:2]).lower() == 'output (b)')):\n",
    "        confi_cor_80_total += 1\n",
    "    if ([int(num) for num in re.findall(r'\\d+', pred.lower().split(\" \")[-1])][0] > 60) and ((\" \".join(pred.lower().split(\" \")[:2]).lower() == 'output (a)') or (\" \".join(pred.lower().split(\" \")[:2]).lower() == 'output (b)')):\n",
    "        confi_cor_60_total += 1\n",
    "        \n",
    "print(\"#\" * 60)\n",
    "print(f\"{round((cor / 793)*100, 2)}\")\n",
    "print(f\"({cor}/793)\")\n",
    "print(f\"{round((confi_cor_60 / confi_cor_60_total)*100, 2)}\")\n",
    "print(f\"({confi_cor_60}/{confi_cor_60_total})\")\n",
    "print(f\"{round((confi_cor_80 / confi_cor_80_total)*100, 2)}\")\n",
    "print(f\"({confi_cor_80}/{confi_cor_80_total})\")\n",
    "print(\"#\" * 60)"
   ]
  },
  {
   "cell_type": "code",
   "execution_count": null,
   "metadata": {},
   "outputs": [],
   "source": []
  }
 ],
 "metadata": {
  "kernelspec": {
   "display_name": "rlphf",
   "language": "python",
   "name": "python3"
  },
  "language_info": {
   "codemirror_mode": {
    "name": "ipython",
    "version": 3
   },
   "file_extension": ".py",
   "mimetype": "text/x-python",
   "name": "python",
   "nbconvert_exporter": "python",
   "pygments_lexer": "ipython3",
   "version": "3.12.9"
  }
 },
 "nbformat": 4,
 "nbformat_minor": 2
}
